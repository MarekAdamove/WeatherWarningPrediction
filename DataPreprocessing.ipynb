{
 "cells": [
  {
   "cell_type": "markdown",
   "id": "8fafce89",
   "metadata": {},
   "source": [
    "# Weather Warning - Data preprocessing"
   ]
  },
  {
   "cell_type": "code",
   "execution_count": 1,
   "id": "96486278",
   "metadata": {},
   "outputs": [],
   "source": [
    "import matplotlib.pyplot as plt\n",
    "import seaborn as sns\n",
    "import pandas as pd\n",
    "import numpy as np\n",
    "import scipy.stats as stats\n",
    "import re\n",
    "from sklearn.impute import SimpleImputer\n",
    "from sklearn.impute import KNNImputer\n",
    "from sklearn.model_selection import train_test_split\n",
    "from sklearn.preprocessing import PowerTransformer \n",
    "from sklearn.preprocessing import MinMaxScaler \n",
    "from sklearn.feature_selection import SelectFromModel\n",
    "from sklearn.linear_model import LogisticRegression"
   ]
  },
  {
   "cell_type": "markdown",
   "id": "11acecca",
   "metadata": {},
   "source": [
    "### 1. Integration and data cleaning\n",
    "\n",
    "Firstly we import our data into *measurements* and *stations* dataframes."
   ]
  },
  {
   "cell_type": "code",
   "execution_count": 2,
   "id": "395721b2",
   "metadata": {},
   "outputs": [],
   "source": [
    "measurements = pd.read_csv('measurements.csv', sep = '\\t')\n",
    "\n",
    "stations = pd.read_csv('stations.csv', sep = '\\t')"
   ]
  },
  {
   "cell_type": "code",
   "execution_count": 3,
   "id": "68babad3",
   "metadata": {},
   "outputs": [
    {
     "data": {
      "text/html": [
       "<div>\n",
       "<style scoped>\n",
       "    .dataframe tbody tr th:only-of-type {\n",
       "        vertical-align: middle;\n",
       "    }\n",
       "\n",
       "    .dataframe tbody tr th {\n",
       "        vertical-align: top;\n",
       "    }\n",
       "\n",
       "    .dataframe thead th {\n",
       "        text-align: right;\n",
       "    }\n",
       "</style>\n",
       "<table border=\"1\" class=\"dataframe\">\n",
       "  <thead>\n",
       "    <tr style=\"text-align: right;\">\n",
       "      <th></th>\n",
       "      <th>TEMP</th>\n",
       "      <th>Pb</th>\n",
       "      <th>C2H3NO5</th>\n",
       "      <th>SO2</th>\n",
       "      <th>CFCs</th>\n",
       "      <th>warning</th>\n",
       "      <th>PM10</th>\n",
       "      <th>latitude</th>\n",
       "      <th>O3</th>\n",
       "      <th>PRES</th>\n",
       "      <th>CH4</th>\n",
       "      <th>NOx</th>\n",
       "      <th>PAHs</th>\n",
       "      <th>longitude</th>\n",
       "      <th>H2CO</th>\n",
       "      <th>CO</th>\n",
       "      <th>PM2.5</th>\n",
       "      <th>NH3</th>\n",
       "    </tr>\n",
       "  </thead>\n",
       "  <tbody>\n",
       "    <tr>\n",
       "      <th>0</th>\n",
       "      <td>11.63681</td>\n",
       "      <td>59.04929</td>\n",
       "      <td>0.04992</td>\n",
       "      <td>8.15174</td>\n",
       "      <td>33.76361</td>\n",
       "      <td>1.0</td>\n",
       "      <td>4.17615</td>\n",
       "      <td>8.35122</td>\n",
       "      <td>8.01685</td>\n",
       "      <td>1051.93040</td>\n",
       "      <td>12.09764</td>\n",
       "      <td>5.42988</td>\n",
       "      <td>8.36734</td>\n",
       "      <td>-62.64102</td>\n",
       "      <td>75.73743</td>\n",
       "      <td>6.63032</td>\n",
       "      <td>7.88810</td>\n",
       "      <td>7.24165</td>\n",
       "    </tr>\n",
       "    <tr>\n",
       "      <th>1</th>\n",
       "      <td>29.61423</td>\n",
       "      <td>57.37654</td>\n",
       "      <td>0.08302</td>\n",
       "      <td>6.85331</td>\n",
       "      <td>46.94613</td>\n",
       "      <td>1.0</td>\n",
       "      <td>6.97589</td>\n",
       "      <td>38.06084</td>\n",
       "      <td>8.48665</td>\n",
       "      <td>1193.67200</td>\n",
       "      <td>7.78226</td>\n",
       "      <td>8.77385</td>\n",
       "      <td>9.18997</td>\n",
       "      <td>-97.92977</td>\n",
       "      <td>45.75960</td>\n",
       "      <td>6.72084</td>\n",
       "      <td>7.84346</td>\n",
       "      <td>8.38619</td>\n",
       "    </tr>\n",
       "    <tr>\n",
       "      <th>2</th>\n",
       "      <td>22.38966</td>\n",
       "      <td>61.27853</td>\n",
       "      <td>0.07044</td>\n",
       "      <td>7.77907</td>\n",
       "      <td>52.72148</td>\n",
       "      <td>1.0</td>\n",
       "      <td>7.15149</td>\n",
       "      <td>-8.05389</td>\n",
       "      <td>8.86664</td>\n",
       "      <td>1103.81702</td>\n",
       "      <td>5.94096</td>\n",
       "      <td>7.58559</td>\n",
       "      <td>8.18342</td>\n",
       "      <td>-34.88111</td>\n",
       "      <td>52.68559</td>\n",
       "      <td>5.32123</td>\n",
       "      <td>8.32372</td>\n",
       "      <td>9.59674</td>\n",
       "    </tr>\n",
       "    <tr>\n",
       "      <th>3</th>\n",
       "      <td>23.93475</td>\n",
       "      <td>51.19713</td>\n",
       "      <td>0.19101</td>\n",
       "      <td>5.61192</td>\n",
       "      <td>30.15729</td>\n",
       "      <td>1.0</td>\n",
       "      <td>8.77098</td>\n",
       "      <td>35.74788</td>\n",
       "      <td>7.13248</td>\n",
       "      <td>1160.81796</td>\n",
       "      <td>5.94754</td>\n",
       "      <td>9.78942</td>\n",
       "      <td>11.52139</td>\n",
       "      <td>-95.36969</td>\n",
       "      <td>46.45811</td>\n",
       "      <td>7.00019</td>\n",
       "      <td>7.87748</td>\n",
       "      <td>8.57713</td>\n",
       "    </tr>\n",
       "    <tr>\n",
       "      <th>4</th>\n",
       "      <td>16.15213</td>\n",
       "      <td>38.59449</td>\n",
       "      <td>0.15357</td>\n",
       "      <td>9.07064</td>\n",
       "      <td>49.49594</td>\n",
       "      <td>0.0</td>\n",
       "      <td>8.58246</td>\n",
       "      <td>22.37066</td>\n",
       "      <td>7.90311</td>\n",
       "      <td>1165.57940</td>\n",
       "      <td>4.82733</td>\n",
       "      <td>3.38940</td>\n",
       "      <td>7.66910</td>\n",
       "      <td>114.10479</td>\n",
       "      <td>18.19979</td>\n",
       "      <td>10.53578</td>\n",
       "      <td>8.20174</td>\n",
       "      <td>9.11723</td>\n",
       "    </tr>\n",
       "    <tr>\n",
       "      <th>...</th>\n",
       "      <td>...</td>\n",
       "      <td>...</td>\n",
       "      <td>...</td>\n",
       "      <td>...</td>\n",
       "      <td>...</td>\n",
       "      <td>...</td>\n",
       "      <td>...</td>\n",
       "      <td>...</td>\n",
       "      <td>...</td>\n",
       "      <td>...</td>\n",
       "      <td>...</td>\n",
       "      <td>...</td>\n",
       "      <td>...</td>\n",
       "      <td>...</td>\n",
       "      <td>...</td>\n",
       "      <td>...</td>\n",
       "      <td>...</td>\n",
       "      <td>...</td>\n",
       "    </tr>\n",
       "    <tr>\n",
       "      <th>12140</th>\n",
       "      <td>-13.21662</td>\n",
       "      <td>52.13627</td>\n",
       "      <td>0.04593</td>\n",
       "      <td>8.15972</td>\n",
       "      <td>55.53244</td>\n",
       "      <td>1.0</td>\n",
       "      <td>6.47555</td>\n",
       "      <td>40.66482</td>\n",
       "      <td>7.49880</td>\n",
       "      <td>1132.63142</td>\n",
       "      <td>8.70868</td>\n",
       "      <td>6.37203</td>\n",
       "      <td>10.24854</td>\n",
       "      <td>122.22833</td>\n",
       "      <td>46.27524</td>\n",
       "      <td>7.16575</td>\n",
       "      <td>6.80504</td>\n",
       "      <td>8.96426</td>\n",
       "    </tr>\n",
       "    <tr>\n",
       "      <th>12141</th>\n",
       "      <td>7.64043</td>\n",
       "      <td>49.01147</td>\n",
       "      <td>0.06911</td>\n",
       "      <td>5.90777</td>\n",
       "      <td>73.44931</td>\n",
       "      <td>1.0</td>\n",
       "      <td>6.36459</td>\n",
       "      <td>-54.80000</td>\n",
       "      <td>7.31559</td>\n",
       "      <td>1131.29490</td>\n",
       "      <td>5.90811</td>\n",
       "      <td>11.89275</td>\n",
       "      <td>10.26355</td>\n",
       "      <td>-68.30000</td>\n",
       "      <td>44.77713</td>\n",
       "      <td>6.86538</td>\n",
       "      <td>9.13722</td>\n",
       "      <td>6.94239</td>\n",
       "    </tr>\n",
       "    <tr>\n",
       "      <th>12142</th>\n",
       "      <td>22.66901</td>\n",
       "      <td>49.32991</td>\n",
       "      <td>0.07646</td>\n",
       "      <td>7.34128</td>\n",
       "      <td>51.94318</td>\n",
       "      <td>0.0</td>\n",
       "      <td>7.47681</td>\n",
       "      <td>41.91738</td>\n",
       "      <td>7.36530</td>\n",
       "      <td>1159.24970</td>\n",
       "      <td>9.55866</td>\n",
       "      <td>7.49798</td>\n",
       "      <td>5.67403</td>\n",
       "      <td>3.16310</td>\n",
       "      <td>56.87669</td>\n",
       "      <td>6.35085</td>\n",
       "      <td>7.21536</td>\n",
       "      <td>6.97703</td>\n",
       "    </tr>\n",
       "    <tr>\n",
       "      <th>12143</th>\n",
       "      <td>28.25407</td>\n",
       "      <td>76.33083</td>\n",
       "      <td>0.02338</td>\n",
       "      <td>6.55931</td>\n",
       "      <td>49.76282</td>\n",
       "      <td>1.0</td>\n",
       "      <td>6.31297</td>\n",
       "      <td>-27.50578</td>\n",
       "      <td>8.29788</td>\n",
       "      <td>1054.01390</td>\n",
       "      <td>8.86257</td>\n",
       "      <td>10.15071</td>\n",
       "      <td>9.32797</td>\n",
       "      <td>153.10236</td>\n",
       "      <td>45.74586</td>\n",
       "      <td>6.01633</td>\n",
       "      <td>7.33594</td>\n",
       "      <td>6.30531</td>\n",
       "    </tr>\n",
       "    <tr>\n",
       "      <th>12144</th>\n",
       "      <td>6.70501</td>\n",
       "      <td>48.98030</td>\n",
       "      <td>0.05631</td>\n",
       "      <td>8.53177</td>\n",
       "      <td>54.84032</td>\n",
       "      <td>1.0</td>\n",
       "      <td>3.73317</td>\n",
       "      <td>33.41012</td>\n",
       "      <td>8.06490</td>\n",
       "      <td>1077.97030</td>\n",
       "      <td>6.65824</td>\n",
       "      <td>9.92566</td>\n",
       "      <td>5.86386</td>\n",
       "      <td>-91.06177</td>\n",
       "      <td>36.51265</td>\n",
       "      <td>4.80840</td>\n",
       "      <td>NaN</td>\n",
       "      <td>9.20327</td>\n",
       "    </tr>\n",
       "  </tbody>\n",
       "</table>\n",
       "<p>12145 rows × 18 columns</p>\n",
       "</div>"
      ],
      "text/plain": [
       "           TEMP        Pb  C2H3NO5      SO2      CFCs  warning     PM10  \\\n",
       "0      11.63681  59.04929  0.04992  8.15174  33.76361      1.0  4.17615   \n",
       "1      29.61423  57.37654  0.08302  6.85331  46.94613      1.0  6.97589   \n",
       "2      22.38966  61.27853  0.07044  7.77907  52.72148      1.0  7.15149   \n",
       "3      23.93475  51.19713  0.19101  5.61192  30.15729      1.0  8.77098   \n",
       "4      16.15213  38.59449  0.15357  9.07064  49.49594      0.0  8.58246   \n",
       "...         ...       ...      ...      ...       ...      ...      ...   \n",
       "12140 -13.21662  52.13627  0.04593  8.15972  55.53244      1.0  6.47555   \n",
       "12141   7.64043  49.01147  0.06911  5.90777  73.44931      1.0  6.36459   \n",
       "12142  22.66901  49.32991  0.07646  7.34128  51.94318      0.0  7.47681   \n",
       "12143  28.25407  76.33083  0.02338  6.55931  49.76282      1.0  6.31297   \n",
       "12144   6.70501  48.98030  0.05631  8.53177  54.84032      1.0  3.73317   \n",
       "\n",
       "       latitude       O3        PRES       CH4       NOx      PAHs  longitude  \\\n",
       "0       8.35122  8.01685  1051.93040  12.09764   5.42988   8.36734  -62.64102   \n",
       "1      38.06084  8.48665  1193.67200   7.78226   8.77385   9.18997  -97.92977   \n",
       "2      -8.05389  8.86664  1103.81702   5.94096   7.58559   8.18342  -34.88111   \n",
       "3      35.74788  7.13248  1160.81796   5.94754   9.78942  11.52139  -95.36969   \n",
       "4      22.37066  7.90311  1165.57940   4.82733   3.38940   7.66910  114.10479   \n",
       "...         ...      ...         ...       ...       ...       ...        ...   \n",
       "12140  40.66482  7.49880  1132.63142   8.70868   6.37203  10.24854  122.22833   \n",
       "12141 -54.80000  7.31559  1131.29490   5.90811  11.89275  10.26355  -68.30000   \n",
       "12142  41.91738  7.36530  1159.24970   9.55866   7.49798   5.67403    3.16310   \n",
       "12143 -27.50578  8.29788  1054.01390   8.86257  10.15071   9.32797  153.10236   \n",
       "12144  33.41012  8.06490  1077.97030   6.65824   9.92566   5.86386  -91.06177   \n",
       "\n",
       "           H2CO        CO    PM2.5      NH3  \n",
       "0      75.73743   6.63032  7.88810  7.24165  \n",
       "1      45.75960   6.72084  7.84346  8.38619  \n",
       "2      52.68559   5.32123  8.32372  9.59674  \n",
       "3      46.45811   7.00019  7.87748  8.57713  \n",
       "4      18.19979  10.53578  8.20174  9.11723  \n",
       "...         ...       ...      ...      ...  \n",
       "12140  46.27524   7.16575  6.80504  8.96426  \n",
       "12141  44.77713   6.86538  9.13722  6.94239  \n",
       "12142  56.87669   6.35085  7.21536  6.97703  \n",
       "12143  45.74586   6.01633  7.33594  6.30531  \n",
       "12144  36.51265   4.80840      NaN  9.20327  \n",
       "\n",
       "[12145 rows x 18 columns]"
      ]
     },
     "execution_count": 3,
     "metadata": {},
     "output_type": "execute_result"
    }
   ],
   "source": [
    "measurements"
   ]
  },
  {
   "cell_type": "markdown",
   "id": "08cea45f",
   "metadata": {},
   "source": [
    "Based on the previous assignment we know that some of the attributes have very little to none correlation with other attributes and therefore we remove these attributes:\n",
    "- TEMP (temperature)\n",
    "- Pb (Lead)\n",
    "- CFCs (Chlorofluorocarbons)\n",
    "- O3 (Ozone)\n",
    "- PRES (Atmospheric pressure)\n",
    "- H2CO (Plywood emit formaldehyde)\n",
    "- PM2.5 (Particulate Matter)\n",
    "- NH3 (Ammonia trace)\n",
    "\n",
    "We will keep attribute *longitude* and *latitude* for merging purposes with stations dataframe."
   ]
  },
  {
   "cell_type": "code",
   "execution_count": 4,
   "id": "7167f1f1",
   "metadata": {},
   "outputs": [
    {
     "data": {
      "text/html": [
       "<div>\n",
       "<style scoped>\n",
       "    .dataframe tbody tr th:only-of-type {\n",
       "        vertical-align: middle;\n",
       "    }\n",
       "\n",
       "    .dataframe tbody tr th {\n",
       "        vertical-align: top;\n",
       "    }\n",
       "\n",
       "    .dataframe thead th {\n",
       "        text-align: right;\n",
       "    }\n",
       "</style>\n",
       "<table border=\"1\" class=\"dataframe\">\n",
       "  <thead>\n",
       "    <tr style=\"text-align: right;\">\n",
       "      <th></th>\n",
       "      <th>C2H3NO5</th>\n",
       "      <th>SO2</th>\n",
       "      <th>warning</th>\n",
       "      <th>PM10</th>\n",
       "      <th>latitude</th>\n",
       "      <th>CH4</th>\n",
       "      <th>NOx</th>\n",
       "      <th>PAHs</th>\n",
       "      <th>longitude</th>\n",
       "      <th>CO</th>\n",
       "    </tr>\n",
       "  </thead>\n",
       "  <tbody>\n",
       "    <tr>\n",
       "      <th>0</th>\n",
       "      <td>0.04992</td>\n",
       "      <td>8.15174</td>\n",
       "      <td>1.0</td>\n",
       "      <td>4.17615</td>\n",
       "      <td>8.35122</td>\n",
       "      <td>12.09764</td>\n",
       "      <td>5.42988</td>\n",
       "      <td>8.36734</td>\n",
       "      <td>-62.64102</td>\n",
       "      <td>6.63032</td>\n",
       "    </tr>\n",
       "    <tr>\n",
       "      <th>1</th>\n",
       "      <td>0.08302</td>\n",
       "      <td>6.85331</td>\n",
       "      <td>1.0</td>\n",
       "      <td>6.97589</td>\n",
       "      <td>38.06084</td>\n",
       "      <td>7.78226</td>\n",
       "      <td>8.77385</td>\n",
       "      <td>9.18997</td>\n",
       "      <td>-97.92977</td>\n",
       "      <td>6.72084</td>\n",
       "    </tr>\n",
       "    <tr>\n",
       "      <th>2</th>\n",
       "      <td>0.07044</td>\n",
       "      <td>7.77907</td>\n",
       "      <td>1.0</td>\n",
       "      <td>7.15149</td>\n",
       "      <td>-8.05389</td>\n",
       "      <td>5.94096</td>\n",
       "      <td>7.58559</td>\n",
       "      <td>8.18342</td>\n",
       "      <td>-34.88111</td>\n",
       "      <td>5.32123</td>\n",
       "    </tr>\n",
       "    <tr>\n",
       "      <th>3</th>\n",
       "      <td>0.19101</td>\n",
       "      <td>5.61192</td>\n",
       "      <td>1.0</td>\n",
       "      <td>8.77098</td>\n",
       "      <td>35.74788</td>\n",
       "      <td>5.94754</td>\n",
       "      <td>9.78942</td>\n",
       "      <td>11.52139</td>\n",
       "      <td>-95.36969</td>\n",
       "      <td>7.00019</td>\n",
       "    </tr>\n",
       "    <tr>\n",
       "      <th>4</th>\n",
       "      <td>0.15357</td>\n",
       "      <td>9.07064</td>\n",
       "      <td>0.0</td>\n",
       "      <td>8.58246</td>\n",
       "      <td>22.37066</td>\n",
       "      <td>4.82733</td>\n",
       "      <td>3.38940</td>\n",
       "      <td>7.66910</td>\n",
       "      <td>114.10479</td>\n",
       "      <td>10.53578</td>\n",
       "    </tr>\n",
       "    <tr>\n",
       "      <th>...</th>\n",
       "      <td>...</td>\n",
       "      <td>...</td>\n",
       "      <td>...</td>\n",
       "      <td>...</td>\n",
       "      <td>...</td>\n",
       "      <td>...</td>\n",
       "      <td>...</td>\n",
       "      <td>...</td>\n",
       "      <td>...</td>\n",
       "      <td>...</td>\n",
       "    </tr>\n",
       "    <tr>\n",
       "      <th>12140</th>\n",
       "      <td>0.04593</td>\n",
       "      <td>8.15972</td>\n",
       "      <td>1.0</td>\n",
       "      <td>6.47555</td>\n",
       "      <td>40.66482</td>\n",
       "      <td>8.70868</td>\n",
       "      <td>6.37203</td>\n",
       "      <td>10.24854</td>\n",
       "      <td>122.22833</td>\n",
       "      <td>7.16575</td>\n",
       "    </tr>\n",
       "    <tr>\n",
       "      <th>12141</th>\n",
       "      <td>0.06911</td>\n",
       "      <td>5.90777</td>\n",
       "      <td>1.0</td>\n",
       "      <td>6.36459</td>\n",
       "      <td>-54.80000</td>\n",
       "      <td>5.90811</td>\n",
       "      <td>11.89275</td>\n",
       "      <td>10.26355</td>\n",
       "      <td>-68.30000</td>\n",
       "      <td>6.86538</td>\n",
       "    </tr>\n",
       "    <tr>\n",
       "      <th>12142</th>\n",
       "      <td>0.07646</td>\n",
       "      <td>7.34128</td>\n",
       "      <td>0.0</td>\n",
       "      <td>7.47681</td>\n",
       "      <td>41.91738</td>\n",
       "      <td>9.55866</td>\n",
       "      <td>7.49798</td>\n",
       "      <td>5.67403</td>\n",
       "      <td>3.16310</td>\n",
       "      <td>6.35085</td>\n",
       "    </tr>\n",
       "    <tr>\n",
       "      <th>12143</th>\n",
       "      <td>0.02338</td>\n",
       "      <td>6.55931</td>\n",
       "      <td>1.0</td>\n",
       "      <td>6.31297</td>\n",
       "      <td>-27.50578</td>\n",
       "      <td>8.86257</td>\n",
       "      <td>10.15071</td>\n",
       "      <td>9.32797</td>\n",
       "      <td>153.10236</td>\n",
       "      <td>6.01633</td>\n",
       "    </tr>\n",
       "    <tr>\n",
       "      <th>12144</th>\n",
       "      <td>0.05631</td>\n",
       "      <td>8.53177</td>\n",
       "      <td>1.0</td>\n",
       "      <td>3.73317</td>\n",
       "      <td>33.41012</td>\n",
       "      <td>6.65824</td>\n",
       "      <td>9.92566</td>\n",
       "      <td>5.86386</td>\n",
       "      <td>-91.06177</td>\n",
       "      <td>4.80840</td>\n",
       "    </tr>\n",
       "  </tbody>\n",
       "</table>\n",
       "<p>12145 rows × 10 columns</p>\n",
       "</div>"
      ],
      "text/plain": [
       "       C2H3NO5      SO2  warning     PM10  latitude       CH4       NOx  \\\n",
       "0      0.04992  8.15174      1.0  4.17615   8.35122  12.09764   5.42988   \n",
       "1      0.08302  6.85331      1.0  6.97589  38.06084   7.78226   8.77385   \n",
       "2      0.07044  7.77907      1.0  7.15149  -8.05389   5.94096   7.58559   \n",
       "3      0.19101  5.61192      1.0  8.77098  35.74788   5.94754   9.78942   \n",
       "4      0.15357  9.07064      0.0  8.58246  22.37066   4.82733   3.38940   \n",
       "...        ...      ...      ...      ...       ...       ...       ...   \n",
       "12140  0.04593  8.15972      1.0  6.47555  40.66482   8.70868   6.37203   \n",
       "12141  0.06911  5.90777      1.0  6.36459 -54.80000   5.90811  11.89275   \n",
       "12142  0.07646  7.34128      0.0  7.47681  41.91738   9.55866   7.49798   \n",
       "12143  0.02338  6.55931      1.0  6.31297 -27.50578   8.86257  10.15071   \n",
       "12144  0.05631  8.53177      1.0  3.73317  33.41012   6.65824   9.92566   \n",
       "\n",
       "           PAHs  longitude        CO  \n",
       "0       8.36734  -62.64102   6.63032  \n",
       "1       9.18997  -97.92977   6.72084  \n",
       "2       8.18342  -34.88111   5.32123  \n",
       "3      11.52139  -95.36969   7.00019  \n",
       "4       7.66910  114.10479  10.53578  \n",
       "...         ...        ...       ...  \n",
       "12140  10.24854  122.22833   7.16575  \n",
       "12141  10.26355  -68.30000   6.86538  \n",
       "12142   5.67403    3.16310   6.35085  \n",
       "12143   9.32797  153.10236   6.01633  \n",
       "12144   5.86386  -91.06177   4.80840  \n",
       "\n",
       "[12145 rows x 10 columns]"
      ]
     },
     "execution_count": 4,
     "metadata": {},
     "output_type": "execute_result"
    }
   ],
   "source": [
    "measurements.drop(['TEMP', 'Pb', 'CFCs', 'O3', 'PRES', 'H2CO', 'PM2.5', 'NH3'], \n",
    "                  axis = 1, inplace = True)\n",
    "\n",
    "measurements"
   ]
  },
  {
   "cell_type": "markdown",
   "id": "849b7fb4",
   "metadata": {},
   "source": [
    "Now we drop all NA values in warning column and all the duplicates."
   ]
  },
  {
   "cell_type": "code",
   "execution_count": 5,
   "id": "0764d284",
   "metadata": {},
   "outputs": [],
   "source": [
    "measurements = measurements.dropna(axis = 0, subset = ['warning'])\n",
    "measurements = measurements.drop_duplicates()\n",
    "measurements.reset_index(drop=True, inplace=True)"
   ]
  },
  {
   "cell_type": "code",
   "execution_count": 6,
   "id": "b1375ce2",
   "metadata": {},
   "outputs": [
    {
     "name": "stdout",
     "output_type": "stream",
     "text": [
      "<class 'pandas.core.frame.DataFrame'>\n",
      "RangeIndex: 11918 entries, 0 to 11917\n",
      "Data columns (total 10 columns):\n",
      " #   Column     Non-Null Count  Dtype  \n",
      "---  ------     --------------  -----  \n",
      " 0   C2H3NO5    11871 non-null  float64\n",
      " 1   SO2        11870 non-null  float64\n",
      " 2   warning    11918 non-null  float64\n",
      " 3   PM10       11870 non-null  float64\n",
      " 4   latitude   11918 non-null  float64\n",
      " 5   CH4        11870 non-null  float64\n",
      " 6   NOx        11870 non-null  float64\n",
      " 7   PAHs       11871 non-null  float64\n",
      " 8   longitude  11918 non-null  float64\n",
      " 9   CO         11870 non-null  float64\n",
      "dtypes: float64(10)\n",
      "memory usage: 931.2 KB\n"
     ]
    }
   ],
   "source": [
    "measurements.info()"
   ]
  },
  {
   "cell_type": "markdown",
   "id": "3c84205e",
   "metadata": {},
   "source": [
    "### 1.1 Missing values"
   ]
  },
  {
   "cell_type": "code",
   "execution_count": 7,
   "id": "a2b75d89",
   "metadata": {},
   "outputs": [
    {
     "name": "stdout",
     "output_type": "stream",
     "text": [
      "<class 'pandas.core.frame.DataFrame'>\n",
      "RangeIndex: 1034 entries, 0 to 1033\n",
      "Data columns (total 6 columns):\n",
      " #   Column     Non-Null Count  Dtype  \n",
      "---  ------     --------------  -----  \n",
      " 0   location   1034 non-null   object \n",
      " 1   latitude   1034 non-null   float64\n",
      " 2   station    1034 non-null   object \n",
      " 3   QoS        1034 non-null   object \n",
      " 4   revision   1034 non-null   object \n",
      " 5   longitude  1034 non-null   float64\n",
      "dtypes: float64(2), object(4)\n",
      "memory usage: 48.6+ KB\n"
     ]
    }
   ],
   "source": [
    "stations.info()"
   ]
  },
  {
   "cell_type": "markdown",
   "id": "29032b5d",
   "metadata": {},
   "source": [
    "There are none missing values in stations dataframe."
   ]
  },
  {
   "cell_type": "code",
   "execution_count": 8,
   "id": "958854f2",
   "metadata": {},
   "outputs": [
    {
     "name": "stdout",
     "output_type": "stream",
     "text": [
      "<class 'pandas.core.frame.DataFrame'>\n",
      "RangeIndex: 11918 entries, 0 to 11917\n",
      "Data columns (total 10 columns):\n",
      " #   Column     Non-Null Count  Dtype  \n",
      "---  ------     --------------  -----  \n",
      " 0   C2H3NO5    11871 non-null  float64\n",
      " 1   SO2        11870 non-null  float64\n",
      " 2   warning    11918 non-null  float64\n",
      " 3   PM10       11870 non-null  float64\n",
      " 4   latitude   11918 non-null  float64\n",
      " 5   CH4        11870 non-null  float64\n",
      " 6   NOx        11870 non-null  float64\n",
      " 7   PAHs       11871 non-null  float64\n",
      " 8   longitude  11918 non-null  float64\n",
      " 9   CO         11870 non-null  float64\n",
      "dtypes: float64(10)\n",
      "memory usage: 931.2 KB\n"
     ]
    }
   ],
   "source": [
    "measurements.info()"
   ]
  },
  {
   "cell_type": "markdown",
   "id": "51ac9ea0",
   "metadata": {},
   "source": [
    "From the dataframe description we can see that most of the attributes have records with missing values. In the next part, we will try 2 different approaches of dealing with missing values. In the EDA we tried approach of removing those records and therefore we in this notebook we will try these approaches:\n",
    "- replacing missing values with a mean\n",
    "- replacing missing values with kNN algorithm"
   ]
  },
  {
   "cell_type": "markdown",
   "id": "e54b3d13",
   "metadata": {},
   "source": [
    "### 1.1.1 Replacing missing values with a mean"
   ]
  },
  {
   "cell_type": "code",
   "execution_count": 9,
   "id": "1bea2b53",
   "metadata": {},
   "outputs": [
    {
     "data": {
      "text/html": [
       "<div>\n",
       "<style scoped>\n",
       "    .dataframe tbody tr th:only-of-type {\n",
       "        vertical-align: middle;\n",
       "    }\n",
       "\n",
       "    .dataframe tbody tr th {\n",
       "        vertical-align: top;\n",
       "    }\n",
       "\n",
       "    .dataframe thead th {\n",
       "        text-align: right;\n",
       "    }\n",
       "</style>\n",
       "<table border=\"1\" class=\"dataframe\">\n",
       "  <thead>\n",
       "    <tr style=\"text-align: right;\">\n",
       "      <th></th>\n",
       "      <th>C2H3NO5</th>\n",
       "      <th>SO2</th>\n",
       "      <th>warning</th>\n",
       "      <th>PM10</th>\n",
       "      <th>latitude</th>\n",
       "      <th>CH4</th>\n",
       "      <th>NOx</th>\n",
       "      <th>PAHs</th>\n",
       "      <th>longitude</th>\n",
       "      <th>CO</th>\n",
       "    </tr>\n",
       "  </thead>\n",
       "  <tbody>\n",
       "    <tr>\n",
       "      <th>count</th>\n",
       "      <td>11918.000000</td>\n",
       "      <td>11918.000000</td>\n",
       "      <td>11918.000000</td>\n",
       "      <td>11918.000000</td>\n",
       "      <td>11918.000000</td>\n",
       "      <td>11918.000000</td>\n",
       "      <td>11918.000000</td>\n",
       "      <td>11918.000000</td>\n",
       "      <td>11918.000000</td>\n",
       "      <td>11918.000000</td>\n",
       "    </tr>\n",
       "    <tr>\n",
       "      <th>mean</th>\n",
       "      <td>0.268251</td>\n",
       "      <td>7.118066</td>\n",
       "      <td>0.592801</td>\n",
       "      <td>7.144598</td>\n",
       "      <td>27.787955</td>\n",
       "      <td>7.868520</td>\n",
       "      <td>8.162188</td>\n",
       "      <td>8.683726</td>\n",
       "      <td>9.356252</td>\n",
       "      <td>7.115866</td>\n",
       "    </tr>\n",
       "    <tr>\n",
       "      <th>std</th>\n",
       "      <td>1.551445</td>\n",
       "      <td>1.906495</td>\n",
       "      <td>0.491333</td>\n",
       "      <td>1.827458</td>\n",
       "      <td>23.708618</td>\n",
       "      <td>1.901836</td>\n",
       "      <td>2.020542</td>\n",
       "      <td>1.825767</td>\n",
       "      <td>75.748349</td>\n",
       "      <td>1.607502</td>\n",
       "    </tr>\n",
       "    <tr>\n",
       "      <th>min</th>\n",
       "      <td>0.000000</td>\n",
       "      <td>0.983490</td>\n",
       "      <td>0.000000</td>\n",
       "      <td>0.000000</td>\n",
       "      <td>-54.800000</td>\n",
       "      <td>1.638740</td>\n",
       "      <td>0.895030</td>\n",
       "      <td>2.088970</td>\n",
       "      <td>-156.474320</td>\n",
       "      <td>1.602970</td>\n",
       "    </tr>\n",
       "    <tr>\n",
       "      <th>25%</th>\n",
       "      <td>0.049300</td>\n",
       "      <td>5.813937</td>\n",
       "      <td>0.000000</td>\n",
       "      <td>5.899590</td>\n",
       "      <td>13.658050</td>\n",
       "      <td>6.453090</td>\n",
       "      <td>6.738403</td>\n",
       "      <td>7.534013</td>\n",
       "      <td>-70.928660</td>\n",
       "      <td>6.013305</td>\n",
       "    </tr>\n",
       "    <tr>\n",
       "      <th>50%</th>\n",
       "      <td>0.069810</td>\n",
       "      <td>6.990200</td>\n",
       "      <td>1.000000</td>\n",
       "      <td>7.001305</td>\n",
       "      <td>34.864720</td>\n",
       "      <td>7.739085</td>\n",
       "      <td>8.222825</td>\n",
       "      <td>8.791280</td>\n",
       "      <td>9.204270</td>\n",
       "      <td>6.921730</td>\n",
       "    </tr>\n",
       "    <tr>\n",
       "      <th>75%</th>\n",
       "      <td>0.138537</td>\n",
       "      <td>8.270895</td>\n",
       "      <td>1.000000</td>\n",
       "      <td>8.262905</td>\n",
       "      <td>44.929340</td>\n",
       "      <td>9.236998</td>\n",
       "      <td>9.630615</td>\n",
       "      <td>9.934850</td>\n",
       "      <td>72.491540</td>\n",
       "      <td>8.053992</td>\n",
       "    </tr>\n",
       "    <tr>\n",
       "      <th>max</th>\n",
       "      <td>100.000000</td>\n",
       "      <td>15.135050</td>\n",
       "      <td>1.000000</td>\n",
       "      <td>15.217440</td>\n",
       "      <td>65.933810</td>\n",
       "      <td>15.483560</td>\n",
       "      <td>16.614320</td>\n",
       "      <td>15.426310</td>\n",
       "      <td>171.253640</td>\n",
       "      <td>13.303780</td>\n",
       "    </tr>\n",
       "  </tbody>\n",
       "</table>\n",
       "</div>"
      ],
      "text/plain": [
       "            C2H3NO5           SO2       warning          PM10      latitude  \\\n",
       "count  11918.000000  11918.000000  11918.000000  11918.000000  11918.000000   \n",
       "mean       0.268251      7.118066      0.592801      7.144598     27.787955   \n",
       "std        1.551445      1.906495      0.491333      1.827458     23.708618   \n",
       "min        0.000000      0.983490      0.000000      0.000000    -54.800000   \n",
       "25%        0.049300      5.813937      0.000000      5.899590     13.658050   \n",
       "50%        0.069810      6.990200      1.000000      7.001305     34.864720   \n",
       "75%        0.138537      8.270895      1.000000      8.262905     44.929340   \n",
       "max      100.000000     15.135050      1.000000     15.217440     65.933810   \n",
       "\n",
       "                CH4           NOx          PAHs     longitude            CO  \n",
       "count  11918.000000  11918.000000  11918.000000  11918.000000  11918.000000  \n",
       "mean       7.868520      8.162188      8.683726      9.356252      7.115866  \n",
       "std        1.901836      2.020542      1.825767     75.748349      1.607502  \n",
       "min        1.638740      0.895030      2.088970   -156.474320      1.602970  \n",
       "25%        6.453090      6.738403      7.534013    -70.928660      6.013305  \n",
       "50%        7.739085      8.222825      8.791280      9.204270      6.921730  \n",
       "75%        9.236998      9.630615      9.934850     72.491540      8.053992  \n",
       "max       15.483560     16.614320     15.426310    171.253640     13.303780  "
      ]
     },
     "execution_count": 9,
     "metadata": {},
     "output_type": "execute_result"
    }
   ],
   "source": [
    "imputer = SimpleImputer(missing_values = np.nan, strategy = 'mean')\n",
    "imputer = imputer.fit(measurements)\n",
    "\n",
    "measurements_mean = imputer.transform(measurements)\n",
    "measurements_mean = pd.DataFrame(measurements_mean, columns = measurements.columns.values)\n",
    "\n",
    "measurements_mean['warning'] = measurements['warning']\n",
    "\n",
    "# can also be done easier like this\n",
    "#mean_measurements = measurements.fillna(measurements.mean())\n",
    "#mean_measurements.equals(measurements_mean)\n",
    "\n",
    "measurements_mean.describe()"
   ]
  },
  {
   "cell_type": "code",
   "execution_count": 10,
   "id": "c4cb188f",
   "metadata": {},
   "outputs": [
    {
     "data": {
      "text/plain": [
       "<AxesSubplot: >"
      ]
     },
     "execution_count": 10,
     "metadata": {},
     "output_type": "execute_result"
    },
    {
     "data": {
      "image/png": "[encoded data removed]",
      "text/plain": [
       "<Figure size 1440x1152 with 2 Axes>"
      ]
     },
     "metadata": {
      "needs_background": "light"
     },
     "output_type": "display_data"
    }
   ],
   "source": [
    "figure, ax = plt.subplots(figsize = (20,16))\n",
    "\n",
    "sns.heatmap(measurements_mean.corr(), ax = ax, annot = True, fmt = \".3f\")"
   ]
  },
  {
   "cell_type": "markdown",
   "id": "d1b406df",
   "metadata": {},
   "source": [
    "### 1.1.2 Replacing missing values with kNN algorithm"
   ]
  },
  {
   "cell_type": "code",
   "execution_count": 11,
   "id": "cc259356",
   "metadata": {},
   "outputs": [
    {
     "data": {
      "text/html": [
       "<div>\n",
       "<style scoped>\n",
       "    .dataframe tbody tr th:only-of-type {\n",
       "        vertical-align: middle;\n",
       "    }\n",
       "\n",
       "    .dataframe tbody tr th {\n",
       "        vertical-align: top;\n",
       "    }\n",
       "\n",
       "    .dataframe thead th {\n",
       "        text-align: right;\n",
       "    }\n",
       "</style>\n",
       "<table border=\"1\" class=\"dataframe\">\n",
       "  <thead>\n",
       "    <tr style=\"text-align: right;\">\n",
       "      <th></th>\n",
       "      <th>C2H3NO5</th>\n",
       "      <th>SO2</th>\n",
       "      <th>warning</th>\n",
       "      <th>PM10</th>\n",
       "      <th>latitude</th>\n",
       "      <th>CH4</th>\n",
       "      <th>NOx</th>\n",
       "      <th>PAHs</th>\n",
       "      <th>longitude</th>\n",
       "      <th>CO</th>\n",
       "    </tr>\n",
       "  </thead>\n",
       "  <tbody>\n",
       "    <tr>\n",
       "      <th>count</th>\n",
       "      <td>11918.000000</td>\n",
       "      <td>11918.000000</td>\n",
       "      <td>11918.000000</td>\n",
       "      <td>11918.000000</td>\n",
       "      <td>11918.000000</td>\n",
       "      <td>11918.000000</td>\n",
       "      <td>11918.000000</td>\n",
       "      <td>11918.000000</td>\n",
       "      <td>11918.000000</td>\n",
       "      <td>11918.000000</td>\n",
       "    </tr>\n",
       "    <tr>\n",
       "      <th>mean</th>\n",
       "      <td>0.267817</td>\n",
       "      <td>7.118958</td>\n",
       "      <td>0.592801</td>\n",
       "      <td>7.143802</td>\n",
       "      <td>27.787955</td>\n",
       "      <td>7.867903</td>\n",
       "      <td>8.161859</td>\n",
       "      <td>8.683542</td>\n",
       "      <td>9.356252</td>\n",
       "      <td>7.116367</td>\n",
       "    </tr>\n",
       "    <tr>\n",
       "      <th>std</th>\n",
       "      <td>1.551543</td>\n",
       "      <td>1.908364</td>\n",
       "      <td>0.491333</td>\n",
       "      <td>1.829235</td>\n",
       "      <td>23.708618</td>\n",
       "      <td>1.903241</td>\n",
       "      <td>2.022244</td>\n",
       "      <td>1.827054</td>\n",
       "      <td>75.748349</td>\n",
       "      <td>1.608806</td>\n",
       "    </tr>\n",
       "    <tr>\n",
       "      <th>min</th>\n",
       "      <td>0.000000</td>\n",
       "      <td>0.983490</td>\n",
       "      <td>0.000000</td>\n",
       "      <td>0.000000</td>\n",
       "      <td>-54.800000</td>\n",
       "      <td>1.638740</td>\n",
       "      <td>0.895030</td>\n",
       "      <td>2.088970</td>\n",
       "      <td>-156.474320</td>\n",
       "      <td>1.602970</td>\n",
       "    </tr>\n",
       "    <tr>\n",
       "      <th>25%</th>\n",
       "      <td>0.049240</td>\n",
       "      <td>5.812630</td>\n",
       "      <td>0.000000</td>\n",
       "      <td>5.897523</td>\n",
       "      <td>13.658050</td>\n",
       "      <td>6.450585</td>\n",
       "      <td>6.732753</td>\n",
       "      <td>7.528532</td>\n",
       "      <td>-70.928660</td>\n",
       "      <td>6.012455</td>\n",
       "    </tr>\n",
       "    <tr>\n",
       "      <th>50%</th>\n",
       "      <td>0.069580</td>\n",
       "      <td>6.981445</td>\n",
       "      <td>1.000000</td>\n",
       "      <td>6.989530</td>\n",
       "      <td>34.864720</td>\n",
       "      <td>7.729290</td>\n",
       "      <td>8.231165</td>\n",
       "      <td>8.800050</td>\n",
       "      <td>9.204270</td>\n",
       "      <td>6.917025</td>\n",
       "    </tr>\n",
       "    <tr>\n",
       "      <th>75%</th>\n",
       "      <td>0.136594</td>\n",
       "      <td>8.275890</td>\n",
       "      <td>1.000000</td>\n",
       "      <td>8.266955</td>\n",
       "      <td>44.929340</td>\n",
       "      <td>9.241803</td>\n",
       "      <td>9.633723</td>\n",
       "      <td>9.937407</td>\n",
       "      <td>72.491540</td>\n",
       "      <td>8.057913</td>\n",
       "    </tr>\n",
       "    <tr>\n",
       "      <th>max</th>\n",
       "      <td>100.000000</td>\n",
       "      <td>15.135050</td>\n",
       "      <td>1.000000</td>\n",
       "      <td>15.217440</td>\n",
       "      <td>65.933810</td>\n",
       "      <td>15.483560</td>\n",
       "      <td>16.614320</td>\n",
       "      <td>15.426310</td>\n",
       "      <td>171.253640</td>\n",
       "      <td>13.303780</td>\n",
       "    </tr>\n",
       "  </tbody>\n",
       "</table>\n",
       "</div>"
      ],
      "text/plain": [
       "            C2H3NO5           SO2       warning          PM10      latitude  \\\n",
       "count  11918.000000  11918.000000  11918.000000  11918.000000  11918.000000   \n",
       "mean       0.267817      7.118958      0.592801      7.143802     27.787955   \n",
       "std        1.551543      1.908364      0.491333      1.829235     23.708618   \n",
       "min        0.000000      0.983490      0.000000      0.000000    -54.800000   \n",
       "25%        0.049240      5.812630      0.000000      5.897523     13.658050   \n",
       "50%        0.069580      6.981445      1.000000      6.989530     34.864720   \n",
       "75%        0.136594      8.275890      1.000000      8.266955     44.929340   \n",
       "max      100.000000     15.135050      1.000000     15.217440     65.933810   \n",
       "\n",
       "                CH4           NOx          PAHs     longitude            CO  \n",
       "count  11918.000000  11918.000000  11918.000000  11918.000000  11918.000000  \n",
       "mean       7.867903      8.161859      8.683542      9.356252      7.116367  \n",
       "std        1.903241      2.022244      1.827054     75.748349      1.608806  \n",
       "min        1.638740      0.895030      2.088970   -156.474320      1.602970  \n",
       "25%        6.450585      6.732753      7.528532    -70.928660      6.012455  \n",
       "50%        7.729290      8.231165      8.800050      9.204270      6.917025  \n",
       "75%        9.241803      9.633723      9.937407     72.491540      8.057913  \n",
       "max       15.483560     16.614320     15.426310    171.253640     13.303780  "
      ]
     },
     "execution_count": 11,
     "metadata": {},
     "output_type": "execute_result"
    }
   ],
   "source": [
    "imputer = KNNImputer()\n",
    "\n",
    "\n",
    "imputer.fit(measurements)\n",
    "\n",
    "measurements_knn = imputer.transform(measurements)\n",
    "measurements_knn = pd.DataFrame(measurements_knn, columns = measurements.columns.values)\n",
    "\n",
    "measurements_knn['warning'] = measurements['warning']\n",
    "\n",
    "\n",
    "measurements_knn.describe()"
   ]
  },
  {
   "cell_type": "code",
   "execution_count": 12,
   "id": "2f5c72ef",
   "metadata": {},
   "outputs": [
    {
     "data": {
      "text/plain": [
       "<AxesSubplot: >"
      ]
     },
     "execution_count": 12,
     "metadata": {},
     "output_type": "execute_result"
    },
    {
     "data": {
      "image/png": "[encoded data removed]",
      "text/plain": [
       "<Figure size 1440x1152 with 2 Axes>"
      ]
     },
     "metadata": {
      "needs_background": "light"
     },
     "output_type": "display_data"
    }
   ],
   "source": [
    "figure, ax = plt.subplots(figsize = (20,16))\n",
    "\n",
    "sns.heatmap(measurements_knn.corr(), ax = ax, annot = True, fmt = \".3f\")"
   ]
  },
  {
   "cell_type": "markdown",
   "id": "7aaccb93",
   "metadata": {},
   "source": [
    "Based on the differences between measurements dataset with missing values and the data with missing values replaced with mean or kNN algorithm we can see that there are slight changes in the correlations and also correlation of warning indicator is stronger when we used kNN. Data where we replaced missing values with average of each column has however higher amount of change in the correlations and is differs more from measurements data with missing values thus we will continue further with measurements dataset where we used kNN algorithm."
   ]
  },
  {
   "cell_type": "code",
   "execution_count": 13,
   "id": "9cfc4bae",
   "metadata": {},
   "outputs": [],
   "source": [
    "measurements = measurements_knn"
   ]
  },
  {
   "cell_type": "markdown",
   "id": "1cb75766",
   "metadata": {},
   "source": [
    "### 1.2 Outliers detection"
   ]
  },
  {
   "cell_type": "markdown",
   "id": "3b42ba48",
   "metadata": {},
   "source": [
    "To detect outliers, we will make boxplots for each of the measurements attributes except *longitude*, *latitude* and *warning*."
   ]
  },
  {
   "cell_type": "code",
   "execution_count": 14,
   "id": "5bc366e0",
   "metadata": {},
   "outputs": [
    {
     "data": {
      "image/png": "[encoded data removed]",
      "text/plain": [
       "<Figure size 1440x1800 with 9 Axes>"
      ]
     },
     "metadata": {
      "needs_background": "light"
     },
     "output_type": "display_data"
    }
   ],
   "source": [
    "figure, axes = plt.subplots(3, 3 ,figsize = (20,25))\n",
    "\n",
    "r, c = 0, 0\n",
    "for column in measurements:\n",
    "    if column not in ['warning', 'longitude', 'latitude']:\n",
    "        sns.boxplot(measurements[column], ax = axes[r // 3][c % 3]).set(ylabel = column)\n",
    "        c += 1\n",
    "        r += 1"
   ]
  },
  {
   "cell_type": "code",
   "execution_count": 15,
   "id": "f7742581",
   "metadata": {},
   "outputs": [
    {
     "data": {
      "text/html": [
       "<div>\n",
       "<style scoped>\n",
       "    .dataframe tbody tr th:only-of-type {\n",
       "        vertical-align: middle;\n",
       "    }\n",
       "\n",
       "    .dataframe tbody tr th {\n",
       "        vertical-align: top;\n",
       "    }\n",
       "\n",
       "    .dataframe thead th {\n",
       "        text-align: right;\n",
       "    }\n",
       "</style>\n",
       "<table border=\"1\" class=\"dataframe\">\n",
       "  <thead>\n",
       "    <tr style=\"text-align: right;\">\n",
       "      <th></th>\n",
       "      <th>C2H3NO5</th>\n",
       "      <th>SO2</th>\n",
       "      <th>warning</th>\n",
       "      <th>PM10</th>\n",
       "      <th>latitude</th>\n",
       "      <th>CH4</th>\n",
       "      <th>NOx</th>\n",
       "      <th>PAHs</th>\n",
       "      <th>longitude</th>\n",
       "      <th>CO</th>\n",
       "    </tr>\n",
       "  </thead>\n",
       "  <tbody>\n",
       "    <tr>\n",
       "      <th>count</th>\n",
       "      <td>11918.000000</td>\n",
       "      <td>11918.000000</td>\n",
       "      <td>11918.000000</td>\n",
       "      <td>11918.000000</td>\n",
       "      <td>11918.000000</td>\n",
       "      <td>11918.000000</td>\n",
       "      <td>11918.000000</td>\n",
       "      <td>11918.000000</td>\n",
       "      <td>11918.000000</td>\n",
       "      <td>11918.000000</td>\n",
       "    </tr>\n",
       "    <tr>\n",
       "      <th>mean</th>\n",
       "      <td>0.267817</td>\n",
       "      <td>7.118958</td>\n",
       "      <td>0.592801</td>\n",
       "      <td>7.143802</td>\n",
       "      <td>27.787955</td>\n",
       "      <td>7.867903</td>\n",
       "      <td>8.161859</td>\n",
       "      <td>8.683542</td>\n",
       "      <td>9.356252</td>\n",
       "      <td>7.116367</td>\n",
       "    </tr>\n",
       "    <tr>\n",
       "      <th>std</th>\n",
       "      <td>1.551543</td>\n",
       "      <td>1.908364</td>\n",
       "      <td>0.491333</td>\n",
       "      <td>1.829235</td>\n",
       "      <td>23.708618</td>\n",
       "      <td>1.903241</td>\n",
       "      <td>2.022244</td>\n",
       "      <td>1.827054</td>\n",
       "      <td>75.748349</td>\n",
       "      <td>1.608806</td>\n",
       "    </tr>\n",
       "    <tr>\n",
       "      <th>min</th>\n",
       "      <td>0.000000</td>\n",
       "      <td>0.983490</td>\n",
       "      <td>0.000000</td>\n",
       "      <td>0.000000</td>\n",
       "      <td>-54.800000</td>\n",
       "      <td>1.638740</td>\n",
       "      <td>0.895030</td>\n",
       "      <td>2.088970</td>\n",
       "      <td>-156.474320</td>\n",
       "      <td>1.602970</td>\n",
       "    </tr>\n",
       "    <tr>\n",
       "      <th>25%</th>\n",
       "      <td>0.049240</td>\n",
       "      <td>5.812630</td>\n",
       "      <td>0.000000</td>\n",
       "      <td>5.897523</td>\n",
       "      <td>13.658050</td>\n",
       "      <td>6.450585</td>\n",
       "      <td>6.732753</td>\n",
       "      <td>7.528532</td>\n",
       "      <td>-70.928660</td>\n",
       "      <td>6.012455</td>\n",
       "    </tr>\n",
       "    <tr>\n",
       "      <th>50%</th>\n",
       "      <td>0.069580</td>\n",
       "      <td>6.981445</td>\n",
       "      <td>1.000000</td>\n",
       "      <td>6.989530</td>\n",
       "      <td>34.864720</td>\n",
       "      <td>7.729290</td>\n",
       "      <td>8.231165</td>\n",
       "      <td>8.800050</td>\n",
       "      <td>9.204270</td>\n",
       "      <td>6.917025</td>\n",
       "    </tr>\n",
       "    <tr>\n",
       "      <th>75%</th>\n",
       "      <td>0.136594</td>\n",
       "      <td>8.275890</td>\n",
       "      <td>1.000000</td>\n",
       "      <td>8.266955</td>\n",
       "      <td>44.929340</td>\n",
       "      <td>9.241803</td>\n",
       "      <td>9.633723</td>\n",
       "      <td>9.937407</td>\n",
       "      <td>72.491540</td>\n",
       "      <td>8.057913</td>\n",
       "    </tr>\n",
       "    <tr>\n",
       "      <th>max</th>\n",
       "      <td>100.000000</td>\n",
       "      <td>15.135050</td>\n",
       "      <td>1.000000</td>\n",
       "      <td>15.217440</td>\n",
       "      <td>65.933810</td>\n",
       "      <td>15.483560</td>\n",
       "      <td>16.614320</td>\n",
       "      <td>15.426310</td>\n",
       "      <td>171.253640</td>\n",
       "      <td>13.303780</td>\n",
       "    </tr>\n",
       "  </tbody>\n",
       "</table>\n",
       "</div>"
      ],
      "text/plain": [
       "            C2H3NO5           SO2       warning          PM10      latitude  \\\n",
       "count  11918.000000  11918.000000  11918.000000  11918.000000  11918.000000   \n",
       "mean       0.267817      7.118958      0.592801      7.143802     27.787955   \n",
       "std        1.551543      1.908364      0.491333      1.829235     23.708618   \n",
       "min        0.000000      0.983490      0.000000      0.000000    -54.800000   \n",
       "25%        0.049240      5.812630      0.000000      5.897523     13.658050   \n",
       "50%        0.069580      6.981445      1.000000      6.989530     34.864720   \n",
       "75%        0.136594      8.275890      1.000000      8.266955     44.929340   \n",
       "max      100.000000     15.135050      1.000000     15.217440     65.933810   \n",
       "\n",
       "                CH4           NOx          PAHs     longitude            CO  \n",
       "count  11918.000000  11918.000000  11918.000000  11918.000000  11918.000000  \n",
       "mean       7.867903      8.161859      8.683542      9.356252      7.116367  \n",
       "std        1.903241      2.022244      1.827054     75.748349      1.608806  \n",
       "min        1.638740      0.895030      2.088970   -156.474320      1.602970  \n",
       "25%        6.450585      6.732753      7.528532    -70.928660      6.012455  \n",
       "50%        7.729290      8.231165      8.800050      9.204270      6.917025  \n",
       "75%        9.241803      9.633723      9.937407     72.491540      8.057913  \n",
       "max       15.483560     16.614320     15.426310    171.253640     13.303780  "
      ]
     },
     "execution_count": 15,
     "metadata": {},
     "output_type": "execute_result"
    }
   ],
   "source": [
    "measurements.describe()"
   ]
  },
  {
   "cell_type": "code",
   "execution_count": 16,
   "id": "97a2761d",
   "metadata": {},
   "outputs": [
    {
     "name": "stdout",
     "output_type": "stream",
     "text": [
      "C2H3NO5  1695\n",
      "SO2  174\n",
      "PM10  141\n",
      "CH4  13\n",
      "NOx  27\n",
      "PAHs  103\n",
      "CO  192\n"
     ]
    }
   ],
   "source": [
    "def identify_outliers(attribute):\n",
    "    lower_bound = attribute.quantile(0.25) - 1.5 * stats.iqr(attribute)\n",
    "    upper_bound = attribute.quantile(0.75) + 1.5 * stats.iqr(attribute)\n",
    "    \n",
    "    return attribute[(attribute > upper_bound) | (attribute < lower_bound)]\n",
    "\n",
    "for column in measurements:\n",
    "    if column not in ['warning', 'longitude', 'latitude']:\n",
    "        print(column, \"\", len(identify_outliers(measurements[column])))"
   ]
  },
  {
   "cell_type": "markdown",
   "id": "f0fccd1d",
   "metadata": {},
   "source": [
    "As we can see most of the outliers are in the *C2H3NO5* attribute. We will compare 2 approaches of dealing with outlier values:\n",
    "- replacment of outliers with 5% (95%) value\n",
    "- removal of outlier values"
   ]
  },
  {
   "cell_type": "markdown",
   "id": "74c69452",
   "metadata": {},
   "source": [
    "### 1.2.1 Outlier values replaced with 5% and 95% quantile value\n",
    "\n",
    "We will identify outliers in every attribute except *warning*, *longitude* and *latitude*."
   ]
  },
  {
   "cell_type": "code",
   "execution_count": 17,
   "id": "33ed8f3e",
   "metadata": {},
   "outputs": [
    {
     "data": {
      "text/html": [
       "<div>\n",
       "<style scoped>\n",
       "    .dataframe tbody tr th:only-of-type {\n",
       "        vertical-align: middle;\n",
       "    }\n",
       "\n",
       "    .dataframe tbody tr th {\n",
       "        vertical-align: top;\n",
       "    }\n",
       "\n",
       "    .dataframe thead th {\n",
       "        text-align: right;\n",
       "    }\n",
       "</style>\n",
       "<table border=\"1\" class=\"dataframe\">\n",
       "  <thead>\n",
       "    <tr style=\"text-align: right;\">\n",
       "      <th></th>\n",
       "      <th>C2H3NO5</th>\n",
       "      <th>SO2</th>\n",
       "      <th>warning</th>\n",
       "      <th>PM10</th>\n",
       "      <th>latitude</th>\n",
       "      <th>CH4</th>\n",
       "      <th>NOx</th>\n",
       "      <th>PAHs</th>\n",
       "      <th>longitude</th>\n",
       "      <th>CO</th>\n",
       "    </tr>\n",
       "  </thead>\n",
       "  <tbody>\n",
       "    <tr>\n",
       "      <th>count</th>\n",
       "      <td>11918.000000</td>\n",
       "      <td>11918.000000</td>\n",
       "      <td>11918.000000</td>\n",
       "      <td>11918.000000</td>\n",
       "      <td>11918.000000</td>\n",
       "      <td>11918.000000</td>\n",
       "      <td>11918.000000</td>\n",
       "      <td>11918.000000</td>\n",
       "      <td>11918.000000</td>\n",
       "      <td>11918.000000</td>\n",
       "    </tr>\n",
       "    <tr>\n",
       "      <th>mean</th>\n",
       "      <td>0.189655</td>\n",
       "      <td>7.096231</td>\n",
       "      <td>0.592801</td>\n",
       "      <td>7.130217</td>\n",
       "      <td>27.787955</td>\n",
       "      <td>7.866036</td>\n",
       "      <td>8.163545</td>\n",
       "      <td>8.691286</td>\n",
       "      <td>9.356252</td>\n",
       "      <td>7.096877</td>\n",
       "    </tr>\n",
       "    <tr>\n",
       "      <th>std</th>\n",
       "      <td>0.274930</td>\n",
       "      <td>1.829907</td>\n",
       "      <td>0.491333</td>\n",
       "      <td>1.764828</td>\n",
       "      <td>23.708618</td>\n",
       "      <td>1.894608</td>\n",
       "      <td>2.005900</td>\n",
       "      <td>1.782184</td>\n",
       "      <td>75.748349</td>\n",
       "      <td>1.543000</td>\n",
       "    </tr>\n",
       "    <tr>\n",
       "      <th>min</th>\n",
       "      <td>0.000000</td>\n",
       "      <td>2.124620</td>\n",
       "      <td>0.000000</td>\n",
       "      <td>2.372440</td>\n",
       "      <td>-54.800000</td>\n",
       "      <td>2.338130</td>\n",
       "      <td>2.430860</td>\n",
       "      <td>3.930240</td>\n",
       "      <td>-156.474320</td>\n",
       "      <td>2.949820</td>\n",
       "    </tr>\n",
       "    <tr>\n",
       "      <th>25%</th>\n",
       "      <td>0.049240</td>\n",
       "      <td>5.812630</td>\n",
       "      <td>0.000000</td>\n",
       "      <td>5.897523</td>\n",
       "      <td>13.658050</td>\n",
       "      <td>6.450585</td>\n",
       "      <td>6.732753</td>\n",
       "      <td>7.528532</td>\n",
       "      <td>-70.928660</td>\n",
       "      <td>6.012455</td>\n",
       "    </tr>\n",
       "    <tr>\n",
       "      <th>50%</th>\n",
       "      <td>0.069580</td>\n",
       "      <td>6.981445</td>\n",
       "      <td>1.000000</td>\n",
       "      <td>6.989530</td>\n",
       "      <td>34.864720</td>\n",
       "      <td>7.729290</td>\n",
       "      <td>8.231165</td>\n",
       "      <td>8.800050</td>\n",
       "      <td>9.204270</td>\n",
       "      <td>6.917025</td>\n",
       "    </tr>\n",
       "    <tr>\n",
       "      <th>75%</th>\n",
       "      <td>0.136594</td>\n",
       "      <td>8.275890</td>\n",
       "      <td>1.000000</td>\n",
       "      <td>8.266955</td>\n",
       "      <td>44.929340</td>\n",
       "      <td>9.241803</td>\n",
       "      <td>9.633723</td>\n",
       "      <td>9.937407</td>\n",
       "      <td>72.491540</td>\n",
       "      <td>8.057913</td>\n",
       "    </tr>\n",
       "    <tr>\n",
       "      <th>max</th>\n",
       "      <td>0.855190</td>\n",
       "      <td>11.941260</td>\n",
       "      <td>1.000000</td>\n",
       "      <td>11.813090</td>\n",
       "      <td>65.933810</td>\n",
       "      <td>13.421570</td>\n",
       "      <td>13.968760</td>\n",
       "      <td>13.540040</td>\n",
       "      <td>171.253640</td>\n",
       "      <td>11.117160</td>\n",
       "    </tr>\n",
       "  </tbody>\n",
       "</table>\n",
       "</div>"
      ],
      "text/plain": [
       "            C2H3NO5           SO2       warning          PM10      latitude  \\\n",
       "count  11918.000000  11918.000000  11918.000000  11918.000000  11918.000000   \n",
       "mean       0.189655      7.096231      0.592801      7.130217     27.787955   \n",
       "std        0.274930      1.829907      0.491333      1.764828     23.708618   \n",
       "min        0.000000      2.124620      0.000000      2.372440    -54.800000   \n",
       "25%        0.049240      5.812630      0.000000      5.897523     13.658050   \n",
       "50%        0.069580      6.981445      1.000000      6.989530     34.864720   \n",
       "75%        0.136594      8.275890      1.000000      8.266955     44.929340   \n",
       "max        0.855190     11.941260      1.000000     11.813090     65.933810   \n",
       "\n",
       "                CH4           NOx          PAHs     longitude            CO  \n",
       "count  11918.000000  11918.000000  11918.000000  11918.000000  11918.000000  \n",
       "mean       7.866036      8.163545      8.691286      9.356252      7.096877  \n",
       "std        1.894608      2.005900      1.782184     75.748349      1.543000  \n",
       "min        2.338130      2.430860      3.930240   -156.474320      2.949820  \n",
       "25%        6.450585      6.732753      7.528532    -70.928660      6.012455  \n",
       "50%        7.729290      8.231165      8.800050      9.204270      6.917025  \n",
       "75%        9.241803      9.633723      9.937407     72.491540      8.057913  \n",
       "max       13.421570     13.968760     13.540040    171.253640     11.117160  "
      ]
     },
     "execution_count": 17,
     "metadata": {},
     "output_type": "execute_result"
    }
   ],
   "source": [
    "def replace_outliers_5_95(attribute):\n",
    "    lower_bound_value = np.percentile(attribute, 5)\n",
    "    upper_bound_value = np.percentile(attribute, 95)\n",
    "    \n",
    "    lower_bound = attribute.quantile(0.25) - 1.5 * stats.iqr(attribute)\n",
    "    upper_bound = attribute.quantile(0.75) + 1.5 * stats.iqr(attribute)\n",
    "    \n",
    "    attribute[attribute < lower_bound] = lower_bound_value\n",
    "    attribute[attribute > upper_bound] = upper_bound_value\n",
    "    \n",
    "    return attribute\n",
    "\n",
    "measurements_outliers_5_95 = measurements.copy()\n",
    "\n",
    "for column in measurements:\n",
    "    if column not in ['warning', 'longitude', 'latitude']:\n",
    "        measurements_outliers_5_95[column] = replace_outliers_5_95(measurements_outliers_5_95[column])\n",
    "        \n",
    "measurements_outliers_5_95.describe()"
   ]
  },
  {
   "cell_type": "code",
   "execution_count": 18,
   "id": "6011f3f5",
   "metadata": {},
   "outputs": [
    {
     "data": {
      "text/plain": [
       "<AxesSubplot: >"
      ]
     },
     "execution_count": 18,
     "metadata": {},
     "output_type": "execute_result"
    },
    {
     "data": {
      "image/png": "[encoded data removed]",
      "text/plain": [
       "<Figure size 1440x1152 with 2 Axes>"
      ]
     },
     "metadata": {
      "needs_background": "light"
     },
     "output_type": "display_data"
    }
   ],
   "source": [
    "figure, ax = plt.subplots(figsize = (20,16))\n",
    "\n",
    "sns.heatmap(measurements_outliers_5_95.corr(), ax = ax, annot = True, fmt = \".3f\")"
   ]
  },
  {
   "cell_type": "code",
   "execution_count": 19,
   "id": "9fd8c4cd",
   "metadata": {},
   "outputs": [
    {
     "data": {
      "image/png": "[encoded data removed]",
      "text/plain": [
       "<Figure size 1440x1800 with 9 Axes>"
      ]
     },
     "metadata": {
      "needs_background": "light"
     },
     "output_type": "display_data"
    }
   ],
   "source": [
    "figure, axes = plt.subplots(3, 3 ,figsize = (20,25))\n",
    "\n",
    "r, c = 0, 0\n",
    "for column in measurements_outliers_5_95:\n",
    "    if column not in ['warning', 'longitude', 'latitude']:\n",
    "        sns.boxplot(measurements_outliers_5_95[column], ax = axes[r // 3][c % 3]).set(ylabel = column)\n",
    "        c += 1\n",
    "        r += 1"
   ]
  },
  {
   "cell_type": "markdown",
   "id": "872425da",
   "metadata": {},
   "source": [
    "Based on new set of boxplots we can see that we got rid of most outliers, however few new outlier values were made in *C2H3NO5* attribute even though it's not a lot of them."
   ]
  },
  {
   "cell_type": "code",
   "execution_count": null,
   "id": "c8453760",
   "metadata": {},
   "outputs": [],
   "source": [
    "sns.pairplot(measurements_outliers_5_95, vars = ['C2H3NO5', 'SO2', 'PM10', 'CH4', 'NOx', 'PAHs', 'CO'],\n",
    "              hue=\"warning\", diag_kind=\"kde\")"
   ]
  },
  {
   "cell_type": "markdown",
   "id": "c38ce8a8",
   "metadata": {},
   "source": [
    "Pairplot has shown us that this approach has proven to be good one in all attributes except one - *C2H3NO5*. We think it's because of extreme outlier values in this attribute and therefore we will try to remove extreme outliers first from this attribute and then do this approach again. We will consider extreme outliers as data points which are below/above Q1 - 3*IQR or Q3 + 3*IQR."
   ]
  },
  {
   "cell_type": "code",
   "execution_count": null,
   "id": "9d282e5d",
   "metadata": {},
   "outputs": [],
   "source": [
    "measurements['C2H3NO5'].describe()"
   ]
  },
  {
   "cell_type": "code",
   "execution_count": null,
   "id": "80c45181",
   "metadata": {},
   "outputs": [],
   "source": [
    "def identify_extreme_outliers(attribute):\n",
    "    lower_bound = attribute.quantile(0.25) - 3 * stats.iqr(attribute)\n",
    "    upper_bound = attribute.quantile(0.75) + 3 * stats.iqr(attribute)\n",
    "    \n",
    "    return attribute[(attribute > upper_bound) | (attribute < lower_bound)]\n",
    "\n",
    "len(identify_extreme_outliers(measurements['C2H3NO5']))"
   ]
  },
  {
   "cell_type": "markdown",
   "id": "549155be",
   "metadata": {},
   "source": [
    "We can see that we found 1 221 of extreme outliers values, now we will remove them."
   ]
  },
  {
   "cell_type": "code",
   "execution_count": null,
   "id": "f680201f",
   "metadata": {
    "scrolled": true
   },
   "outputs": [],
   "source": [
    "measurements_outliers_5_95_extreme = measurements.drop(identify_extreme_outliers(measurements['C2H3NO5']).index)\n",
    "\n",
    "measurements_outliers_5_95_extreme.describe()"
   ]
  },
  {
   "cell_type": "markdown",
   "id": "d818a5bd",
   "metadata": {},
   "source": [
    "Maximum of the *C2H3NO5* attribute has changed significantly, which is good as there was a maximum of 100 previously which is unrealistic. Now we will again replace outliers with 5% or 95% values."
   ]
  },
  {
   "cell_type": "code",
   "execution_count": null,
   "id": "2cc2d246",
   "metadata": {},
   "outputs": [],
   "source": [
    "for column in measurements_outliers_5_95_extreme:\n",
    "    if column not in ['warning', 'longitude', 'latitude']:\n",
    "        measurements_outliers_5_95_extreme[column] = replace_outliers_5_95(measurements_outliers_5_95_extreme[column])\n",
    "        \n",
    "measurements_outliers_5_95_extreme.describe()"
   ]
  },
  {
   "cell_type": "code",
   "execution_count": null,
   "id": "65c4db6b",
   "metadata": {},
   "outputs": [],
   "source": [
    "sns.pairplot(measurements_outliers_5_95_extreme, vars = ['C2H3NO5', 'SO2', 'PM10', 'CH4', 'NOx', 'PAHs', 'CO'],\n",
    "             hue=\"warning\", diag_kind=\"kde\")"
   ]
  },
  {
   "cell_type": "markdown",
   "id": "a2ce3068",
   "metadata": {},
   "source": [
    "However, after looking at the pairplot we can see this did not fix our problem with *C2H3NO5* attribute and therefore we will try different approaches as well."
   ]
  },
  {
   "cell_type": "markdown",
   "id": "843fb80f",
   "metadata": {},
   "source": [
    "### 1.2.2 Outlier values are removed\n",
    "\n",
    "Because in 1.2.1 we found out that replacement is a good approach for most of the attributes, we will try to remove only outliers only in the *C2H3NO5* and *CO* attribute. (We chose for CO attribute to remove as well because of its amount of outlier values)"
   ]
  },
  {
   "cell_type": "code",
   "execution_count": null,
   "id": "5a0d5e8d",
   "metadata": {},
   "outputs": [],
   "source": [
    "measurements_outliers_removed = measurements.drop(identify_outliers(measurements['C2H3NO5']).index)\n",
    "measurements_outliers_removed = measurements_outliers_removed.drop(identify_outliers(measurements_outliers_removed['CO']).index)\n",
    "measurements_outliers_removed.describe()"
   ]
  },
  {
   "cell_type": "code",
   "execution_count": null,
   "id": "15542957",
   "metadata": {},
   "outputs": [],
   "source": [
    "figure, ax = plt.subplots(figsize = (20,16))\n",
    "\n",
    "sns.heatmap(measurements_outliers_removed.corr(), ax = ax, annot = True, fmt = \".3f\")"
   ]
  },
  {
   "cell_type": "markdown",
   "id": "b3c2a454",
   "metadata": {},
   "source": [
    "Correlation between many of the attributes has been alternated more than when we replaced the outlier values with 5% (95%) value."
   ]
  },
  {
   "cell_type": "code",
   "execution_count": null,
   "id": "8cabbb56",
   "metadata": {},
   "outputs": [],
   "source": [
    "sns.pairplot(measurements_outliers_removed, vars = ['C2H3NO5', 'SO2', 'PM10', 'CH4', 'NOx', 'PAHs', 'CO'],\n",
    "             hue=\"warning\", diag_kind=\"kde\")"
   ]
  },
  {
   "cell_type": "markdown",
   "id": "5c24fdb3",
   "metadata": {},
   "source": [
    "Pairplot however looks much better than when we replaced values. "
   ]
  },
  {
   "cell_type": "markdown",
   "id": "5e98cbbf",
   "metadata": {},
   "source": [
    "### 1.2.3 Conclusion\n",
    "\n",
    "Because removal of outliers is generally not a good practice, we tried to replace those values with 5% and 95% values which fixed outlier problem in all but *C2H3NO5* attribute. We also tried 10% and 90% but it did not fix the problem. However, in second part we tried to remove outliers from this attribute. This fixed the graph problem and therefore we will proceed with this change to attribute data:\n",
    "- for attribute *C2H3NO5* we will drop all outliers\n",
    "- for every other attribute (except warning, longitude and latitude) we will replace outliers with 5% and 95% values "
   ]
  },
  {
   "cell_type": "code",
   "execution_count": null,
   "id": "896ef9c8",
   "metadata": {},
   "outputs": [],
   "source": [
    "for column in measurements_outliers_removed:\n",
    "    if column not in ['warning', 'longitude', 'latitude', 'C2H3NO5', 'CO']:\n",
    "        measurements_outliers_removed[column] = replace_outliers_5_95(measurements_outliers_removed[column])\n",
    "        \n",
    "measurements_outliers_removed.describe()"
   ]
  },
  {
   "cell_type": "code",
   "execution_count": null,
   "id": "cbe9b3db",
   "metadata": {},
   "outputs": [],
   "source": [
    "figure, ax = plt.subplots(figsize = (20,16))\n",
    "\n",
    "sns.heatmap(measurements_outliers_removed.corr(), ax = ax, annot = True, fmt = \".3f\")"
   ]
  },
  {
   "cell_type": "code",
   "execution_count": null,
   "id": "ca23cf17",
   "metadata": {},
   "outputs": [],
   "source": [
    "sns.pairplot(measurements_outliers_removed, vars = ['C2H3NO5', 'SO2', 'PM10', 'CH4', 'NOx', 'PAHs', 'CO'],\n",
    "            hue=\"warning\", diag_kind=\"kde\")"
   ]
  },
  {
   "cell_type": "markdown",
   "id": "4dc75d61",
   "metadata": {},
   "source": [
    "Based on this new set of pair plots we can see that all the graphs with *C2H3NO5* are now looking better while we still kept the data from other records because we only replaced some values. Therefore we will further work with this version of data."
   ]
  },
  {
   "cell_type": "code",
   "execution_count": null,
   "id": "33d19f36",
   "metadata": {},
   "outputs": [],
   "source": [
    "measurements = measurements_outliers_removed\n",
    "measurements.reset_index(drop=True, inplace=True)\n",
    "\n",
    "measurements.describe()"
   ]
  },
  {
   "cell_type": "markdown",
   "id": "68299939",
   "metadata": {},
   "source": [
    "### 1.3 Stations dataset"
   ]
  },
  {
   "cell_type": "markdown",
   "id": "33f1bbaa",
   "metadata": {},
   "source": [
    "Most of the problems were fixed already in previous notebook and therefore we'll just use code from there."
   ]
  },
  {
   "cell_type": "code",
   "execution_count": null,
   "id": "ea1c91e1",
   "metadata": {},
   "outputs": [],
   "source": [
    "# replacing misspelled QoS\n",
    "stations['QoS'] = stations['QoS'].replace('accep', 'acceptable')\n",
    "stations['QoS'] = stations['QoS'].replace('maitennce', 'maintenance')\n",
    "\n",
    "# 'YYYY/MM/DD' fix\n",
    "stations['revision'] = stations['revision'].map(lambda date: re.sub(pattern = r\"^\\d{4}\\/\\d{2}\\/\\d{2}$\",\n",
    "                                                                    repl = date.replace('/', '-'), \n",
    "                                                                    string = date))\n",
    "# 'MM/DD/YYYY, HH:MM:SS' fix\n",
    "stations['revision'] = stations['revision'].map(lambda date: re.sub(pattern = r\"^\\d{2}\\/\\d{2}\\/\\d{4}, \\d{2}:\\d{2}:\\d{2}$\", \n",
    "                                                                    repl = date[6:10] + '-' + date[0:2] + '-' + date[3:5], \n",
    "                                                                    string = date))\n",
    "# dictionary for mapping months name into its number\n",
    "months = {\n",
    "    'Jan': '01',\n",
    "    'Feb': '02',\n",
    "    'Mar': '03',\n",
    "    'Apr': '04',\n",
    "    'May': '05',\n",
    "    'Jun': '06',\n",
    "    'Jul': '07',\n",
    "    'Aug': '08',\n",
    "    'Sep': '09',\n",
    "    'Oct': '10',\n",
    "    'Nov': '11',\n",
    "    'Dec': '12'\n",
    "}\n",
    "\n",
    "# 'DD Month YYYY' fix\n",
    "stations['revision'] = stations['revision'].map(lambda date: re.sub(pattern = r\"^\\d{2} [A-Z][a-z]{2} \\d{4}$\", \n",
    "                                                                    repl = date[7:] + '-' + str(months.get(date[3:6])) + '-' + date[0:2], \n",
    "                                                                    string = date))\n",
    "\n",
    "# make a new columns by splitting locality attribute\n",
    "stations[['region', 'locality']] = stations['location'].str.split('/', n = 1, expand = True)\n",
    "\n",
    "# drop the old column\n",
    "stations.drop('location', inplace = True, axis = 1)\n",
    "stations"
   ]
  },
  {
   "cell_type": "markdown",
   "id": "a1ef7456",
   "metadata": {},
   "source": [
    "Later, we will merge stations and measurements data together, however we have to remove *QoS* and *revision* attribute, because we don't have time of measurement and thus there would be duplicated and wrong records."
   ]
  },
  {
   "cell_type": "code",
   "execution_count": null,
   "id": "84c05ee6",
   "metadata": {},
   "outputs": [],
   "source": [
    "stations.drop(columns = ['revision', 'QoS'], inplace = True)"
   ]
  },
  {
   "cell_type": "code",
   "execution_count": null,
   "id": "707b4c04",
   "metadata": {},
   "outputs": [],
   "source": [
    "stations.drop_duplicates(inplace = True)\n",
    "\n",
    "stations.reset_index(drop = True, inplace = True)\n",
    "\n",
    "stations"
   ]
  },
  {
   "cell_type": "markdown",
   "id": "4710c015",
   "metadata": {},
   "source": [
    "### 1.4 Merging"
   ]
  },
  {
   "cell_type": "markdown",
   "id": "065b5c7e",
   "metadata": {},
   "source": [
    "Because stations dataset has only categorical data and we are merging based on *longitude* and *latitude* attributes, we will only put index of the station into the measurements dataset."
   ]
  },
  {
   "cell_type": "code",
   "execution_count": null,
   "id": "5ad06d95",
   "metadata": {},
   "outputs": [],
   "source": [
    "stations['station_index'] = stations.index\n",
    "\n",
    "# merge of the measurements and stations dataframes \n",
    "merged = pd.merge(measurements, stations, how = 'left', left_on = ['latitude', 'longitude'], right_on = ['latitude', 'longitude'])\n",
    "\n",
    "#delete of station_index column\n",
    "stations.drop(columns = ['station_index'], inplace = True)\n",
    "\n",
    "# delete of duplicated values\n",
    "merged.drop_duplicates(inplace = True)\n",
    "merged.drop(columns = ['station', 'region', 'locality'], inplace = True)\n",
    "\n",
    "merged"
   ]
  },
  {
   "cell_type": "markdown",
   "id": "cc74b684",
   "metadata": {},
   "source": [
    "As a next step we can remove *latitude* and *longitude* attribute as we don't need it anymore because we have index of the station."
   ]
  },
  {
   "cell_type": "code",
   "execution_count": null,
   "id": "97831280",
   "metadata": {},
   "outputs": [],
   "source": [
    "merged.drop(columns = ['longitude', 'latitude'], inplace = True)\n",
    "\n",
    "merged"
   ]
  },
  {
   "cell_type": "markdown",
   "id": "edaa11d9",
   "metadata": {},
   "source": [
    "### 2. Data preprocessing\n",
    "\n",
    "Firstly, we will split our dataset into train and test subsets in 4:1 ratio -  80% of records will be in train dataset and 20% in the testing dataset."
   ]
  },
  {
   "cell_type": "code",
   "execution_count": null,
   "id": "34a1a66d",
   "metadata": {},
   "outputs": [],
   "source": [
    "merged.info()"
   ]
  },
  {
   "cell_type": "code",
   "execution_count": null,
   "id": "4b050291",
   "metadata": {},
   "outputs": [],
   "source": [
    "train_data, test_data = train_test_split(merged, test_size=0.2)\n",
    "\n",
    "train_data.reset_index(drop = True, inplace = True)\n",
    "test_data.reset_index(drop = True, inplace = True)\n",
    "\n",
    "print(\"Number of records in training data: \", len(train_data))\n",
    "print(\"Number of records in test data: \", len(test_data))"
   ]
  },
  {
   "cell_type": "code",
   "execution_count": null,
   "id": "8ec406a4",
   "metadata": {},
   "outputs": [],
   "source": [
    "train_data"
   ]
  },
  {
   "cell_type": "code",
   "execution_count": null,
   "id": "515be5bd",
   "metadata": {
    "scrolled": false
   },
   "outputs": [],
   "source": [
    "figure, axes = plt.subplots(3, 3 ,figsize = (20,25))\n",
    "\n",
    "r, c = 0, 0\n",
    "for column in train_data.columns.values:\n",
    "    if column not in ['warning', 'station_index']:\n",
    "        sns.histplot(train_data[column], ax = axes[r // 3][c % 3], bins=15).set(ylabel = column)\n",
    "        c += 1\n",
    "        r += 1"
   ]
  },
  {
   "cell_type": "markdown",
   "id": "628bc0c8",
   "metadata": {},
   "source": [
    "### 2.2 Data transforming\n",
    "\n",
    "To see which data to transform, we will plot histograms and print skewness of each distribution curve."
   ]
  },
  {
   "cell_type": "code",
   "execution_count": null,
   "id": "bb4b1d5a",
   "metadata": {},
   "outputs": [],
   "source": [
    "for column in train_data:\n",
    "    if column not in ['warning', 'station_index']:\n",
    "        print(column + (15-len(column))*' ', stats.skew(train_data[column]))"
   ]
  },
  {
   "cell_type": "markdown",
   "id": "a588b0e4",
   "metadata": {},
   "source": [
    "We will transform only attributes with high skewness (skewness > 1 or < -1) or moderate skewness (skewness > 1/2 or < 1/2). As we can see, we will transform only 1 attribute - already problematic *C2H3NO5*. We will user PowerTransformer for this."
   ]
  },
  {
   "cell_type": "code",
   "execution_count": null,
   "id": "ac0fd65f",
   "metadata": {},
   "outputs": [],
   "source": [
    "power = PowerTransformer(method='yeo-johnson', standardize=True)\n",
    "\n",
    "train_data['C2H3NO5'] = pd.DataFrame(power.fit_transform(train_data[['C2H3NO5']])).values\n",
    "\n",
    "sns.histplot(train_data['C2H3NO5'], kde = True, bins = 15)"
   ]
  },
  {
   "cell_type": "code",
   "execution_count": null,
   "id": "ef95ffc5",
   "metadata": {},
   "outputs": [],
   "source": [
    "stats.skew(train_data['C2H3NO5'])"
   ]
  },
  {
   "cell_type": "markdown",
   "id": "aad7f532",
   "metadata": {},
   "source": [
    "After power transforming the data we can see that distribution has rapidly changed it's skewness. Distribution is still not ideal, but much better than before the transformation."
   ]
  },
  {
   "cell_type": "markdown",
   "id": "9fa7ec83",
   "metadata": {},
   "source": [
    "### 2.2 Data scaling\n",
    "\n",
    "To determine if we need to scale data we will print range of values for each column, histograms and skewness."
   ]
  },
  {
   "cell_type": "code",
   "execution_count": null,
   "id": "c7790c49",
   "metadata": {
    "scrolled": true
   },
   "outputs": [],
   "source": [
    "for column in train_data.columns.values:\n",
    "    if column not in ['warning', 'station_index']:\n",
    "        print(column + (15-(len(column)))*' ', \"min:\", min(train_data[column]), \" max:\", max(train_data[column]))"
   ]
  },
  {
   "cell_type": "code",
   "execution_count": null,
   "id": "01801e14",
   "metadata": {},
   "outputs": [],
   "source": [
    "figure, axes = plt.subplots(3, 3 ,figsize = (20,25))\n",
    "\n",
    "r, c = 0, 0\n",
    "for column in train_data.columns.values:\n",
    "    if column not in ['warning', 'longitude', 'latitude', 'station_index']:\n",
    "        sns.histplot(train_data[column], ax = axes[r // 3][c % 3], bins=15, kde = True).set(ylabel = column)\n",
    "        c += 1\n",
    "        r += 1"
   ]
  },
  {
   "cell_type": "code",
   "execution_count": null,
   "id": "9be8dde3",
   "metadata": {},
   "outputs": [],
   "source": [
    "for column in train_data:\n",
    "    if column not in ['warning', 'station_index']:\n",
    "        print(column + (15-len(column))*' ', stats.skew(train_data[column]))"
   ]
  },
  {
   "cell_type": "markdown",
   "id": "d62e3460",
   "metadata": {},
   "source": [
    "Ranges of the values for each of the columns are quite similar except few attributes like *C2H3NO5*, *SO2*, *PM10* and *CO*. The skewness has also shown us that we don't have any even mildly skewed distributions. However, because ML models work best with uniform values we will use MinMaxScales to transform these values into range [0, 1]. We will not scale *warning* and *station_index* attribute."
   ]
  },
  {
   "cell_type": "code",
   "execution_count": null,
   "id": "e283434b",
   "metadata": {},
   "outputs": [],
   "source": [
    "scaler = MinMaxScaler()\n",
    "\n",
    "scaled = pd.DataFrame(scaler.fit_transform(train_data[['C2H3NO5', 'SO2', 'PM10', 'CH4', 'NOx', 'PAHs', 'CO', 'station_index']])\n",
    "                      , columns = ['C2H3NO5', 'SO2', 'PM10', 'CH4', 'NOx', 'PAHs', 'CO', 'station_index'])\n",
    "\n",
    "scaled.describe()"
   ]
  },
  {
   "cell_type": "markdown",
   "id": "2e3971e5",
   "metadata": {},
   "source": [
    "MinMax scaler did its job and now we have uniform values in range of [0, 1]. Standard deviations are also quite similar. We will put those data into train data."
   ]
  },
  {
   "cell_type": "code",
   "execution_count": null,
   "id": "b59f46e5",
   "metadata": {},
   "outputs": [],
   "source": [
    "train_data[['C2H3NO5', 'SO2', 'PM10', 'CH4', 'NOx', 'PAHs', 'CO', 'station_index']] = scaled.values\n",
    "train_data"
   ]
  },
  {
   "cell_type": "code",
   "execution_count": null,
   "id": "1b57baaf",
   "metadata": {},
   "outputs": [],
   "source": [
    "figure, ax = plt.subplots(figsize = (20,16))\n",
    "\n",
    "sns.heatmap(train_data.corr(), ax = ax, annot = True, fmt = \".3f\")"
   ]
  },
  {
   "cell_type": "markdown",
   "id": "298e0493",
   "metadata": {},
   "source": [
    "Correlations between attributes (and mainly with attribute *warning*) thankfully did not change significantly. However, one new strong correlation has shown up between *C2H3NO5* and *PM10* ( 0.849 )."
   ]
  },
  {
   "cell_type": "markdown",
   "id": "903a6728",
   "metadata": {},
   "source": [
    "### 3. Feature selection"
   ]
  },
  {
   "cell_type": "markdown",
   "id": "ada2d591",
   "metadata": {},
   "source": [
    "For feature selection we will do 2 approaches:\n",
    "- reading the heatmap\n",
    "- recursive feature elimination\n",
    "\n",
    "\n",
    "### 3.1 Heatmap results\n",
    "\n",
    "Based on the heatmap made in previous chapter we can see that our *warning* indicater correlates with more attributes:\n",
    "- moderate correlations: *NOx* (strongest), *PAHs*\n",
    "- weak correlations: *CO*\n",
    "\n",
    "We can see and sort these correlations by their strength.\n"
   ]
  },
  {
   "cell_type": "code",
   "execution_count": null,
   "id": "17541033",
   "metadata": {},
   "outputs": [],
   "source": [
    "abs(train_data.corr()['warning']).sort_values(ascending = False)"
   ]
  },
  {
   "cell_type": "markdown",
   "id": "df63a7d0",
   "metadata": {},
   "source": [
    "After printing correlations between each of the feature and *warning* indicator we can see that the strongest correlation is with *NOx* attribute (corr(NOx, warning) = 0.58), *PAHs* (corr(PAHs, warning) = 0.41) and *CO* (corr(CO, warning) = 0.26). Lowest correlation is with *station_index* , after that, the lowest correlation is with *CH4* attribute (corr(CH4, warning) = 0.04).\n",
    "\n",
    "We decided to extract 3 - 5 best features, based on this heatmap and correlation result we choose attributes *NOx*, *PAHs*, *CO*, *C2H3NO5* and *SO2*."
   ]
  },
  {
   "cell_type": "markdown",
   "id": "b3eb60e1",
   "metadata": {},
   "source": [
    "### 3.2 Select from model"
   ]
  },
  {
   "cell_type": "markdown",
   "id": "9e067828",
   "metadata": {},
   "source": [
    "In this section we're going to try different approach on feature selection and that is letting a model choose the most important features in the dataset. For this type of method a simple model is usually user and therefore we chose for logistic regression. We're gonna fit this model on our features and set *warning* indicator as a target variable. After this we simply print coeficients which model calculated for each of the featueres, threshold that determined which features to extract. Last print shows boolean values with columns we should take into consideration (True) and which are not that important (False)."
   ]
  },
  {
   "cell_type": "code",
   "execution_count": null,
   "id": "707b5ec0",
   "metadata": {},
   "outputs": [],
   "source": [
    "selector = SelectFromModel(estimator=LogisticRegression()).fit(train_data.drop(columns = ['warning']), train_data['warning'])\n",
    "\n",
    "print(selector.estimator_.coef_)\n",
    "print(selector.threshold_)\n",
    "print(selector.get_support())"
   ]
  },
  {
   "cell_type": "markdown",
   "id": "f027b63a",
   "metadata": {},
   "source": [
    "After running we can see that the most important features are *NOx*, *PAHs* and *CO*. These 3 attributes were had also the strongest correlations with *warning* indicator.\n",
    "\n",
    "To sum up these 2 approaches for feature selection, we decided to take into consideration only 3 strongest attributes like this model showed us, we won't take *CO* and *C2H3NO5* attributes into consideration because based on 3.1 they have weak correlation with *warning* indicator.\n",
    "\n",
    "We will drop any other columns."
   ]
  },
  {
   "cell_type": "code",
   "execution_count": null,
   "id": "1434617d",
   "metadata": {},
   "outputs": [],
   "source": [
    "train_data.drop(columns = ['PM10', 'CH4', 'station_index'], inplace = True)\n",
    "\n",
    "train_data"
   ]
  },
  {
   "cell_type": "markdown",
   "id": "710d91ae",
   "metadata": {},
   "source": [
    "Unfortunately, we did not finish this chapter any further because of errors we could not figure out."
   ]
  },
  {
   "cell_type": "markdown",
   "id": "052fe774",
   "metadata": {},
   "source": [
    "### 6. Data exporting"
   ]
  },
  {
   "cell_type": "code",
   "execution_count": null,
   "id": "1619f5ff",
   "metadata": {},
   "outputs": [],
   "source": [
    "test_data.to_csv('test_data.csv')\n",
    "train_data.to_csv('train_data.csv')"
   ]
  }
 ],
 "metadata": {
  "kernelspec": {
   "display_name": "Python 3 (ipykernel)",
   "language": "python",
   "name": "python3"
  },
  "language_info": {
   "codemirror_mode": {
    "name": "ipython",
    "version": 3
   },
   "file_extension": ".py",
   "mimetype": "text/x-python",
   "name": "python",
   "nbconvert_exporter": "python",
   "pygments_lexer": "ipython3",
   "version": "3.9.3"
  }
 },
 "nbformat": 4,
 "nbformat_minor": 5
}
